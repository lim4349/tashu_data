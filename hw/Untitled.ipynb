{
 "cells": [
  {
   "cell_type": "code",
   "execution_count": 1054,
   "metadata": {},
   "outputs": [
    {
     "name": "stdout",
     "output_type": "stream",
     "text": [
      "414639 621975 587353 610062 524766 641584\n"
     ]
    }
   ],
   "source": [
    "#!/usr/bin/env python3\n",
    "import csv\n",
    "import glob\n",
    "import os\n",
    "import pandas as pd\n",
    "import datetime\n",
    "\n",
    "\n",
    "input_path ='./'\n",
    "\n",
    "tashu_13_1 = pd.read_csv(\"2013_1.csv\")\n",
    "tashu_13_2 = pd.read_csv(\"2013_2.csv\")\n",
    "tashu_13_3 = pd.read_csv(\"2013_weather.csv\")\n",
    "\n",
    "tashu_14_1 = pd.read_csv(\"2014_1.csv\")\n",
    "tashu_14_2 = pd.read_csv(\"2014_2.csv\")\n",
    "tashu_14_3 = pd.read_csv(\"2014_weather.csv\")\n",
    "\n",
    "tashu_15_1 = pd.read_csv(\"2015_1.csv\")\n",
    "tashu_15_2 = pd.read_csv(\"2015_2.csv\")\n",
    "tashu_15_3 = pd.read_csv(\"2015_weather.csv\")\n",
    "\n",
    "station = pd.read_csv('station.csv')\n",
    "\n",
    "tashu_13_1 = tashu_13_1.fillna(0)\n",
    "tashu_13_1['대여일시'] = tashu_13_1['대여일시'].apply(make_date)\n",
    "tashu_13_1['대여일시'] =  pd.to_datetime(tashu_13_1['대여일시'])\n",
    "\n",
    "tashu_13_1['반납일시'] = tashu_13_1['반납일시'].apply(make_date)\n",
    "tashu_13_1['반납일시'] =  pd.to_datetime(tashu_13_1['반납일시'])\n",
    "#print(tashu_13_1.head(10))\n",
    "\n",
    "\n",
    "tashu_13_2 = tashu_13_2.fillna(0)\n",
    "tashu_13_2['대여일시'] = tashu_13_2['대여일시'].apply(make_date)\n",
    "tashu_13_2['대여일시'] =  pd.to_datetime(tashu_13_2['대여일시'])\n",
    "\n",
    "tashu_13_2['반납일시'] = tashu_13_2['반납일시'].apply(make_date)\n",
    "tashu_13_2['반납일시'] =  pd.to_datetime(tashu_13_2['반납일시'])\n",
    "#print(tashu_13_2.head(10))\n",
    "\n",
    "tashu_14_1 = tashu_14_1.fillna(0)\n",
    "tashu_14_1['반납일시'] = tashu_14_1['반납일시'].astype(int)\n",
    "\n",
    "tashu_14_1['대여일시'] = tashu_14_1['대여일시'].apply(make_date)\n",
    "tashu_14_1['대여일시'] =  pd.to_datetime(tashu_14_1['대여일시'])\n",
    "\n",
    "tashu_14_1['반납일시'] = tashu_14_1['반납일시'].apply(make_date)\n",
    "tashu_14_1['반납일시'] =  pd.to_datetime(tashu_14_1['반납일시'])\n",
    "#print(tashu_14_1.head(10))\n",
    "\n",
    "\n",
    "tashu_14_2 = tashu_14_2.fillna(0)\n",
    "#print(tashu_14_2.head(10))\n",
    "\n",
    "tashu_15_1 = tashu_15_1.fillna(0)\n",
    "#print(tashu_15_1.head(10))\n",
    "\n",
    "tashu_15_2 = tashu_15_2.fillna(0)\n",
    "tashu_15_2['대여일시'] = tashu_15_2['대여일시'].apply(make_date)\n",
    "tashu_15_2['대여일시'] =  pd.to_datetime(tashu_15_2['대여일시'])\n",
    "\n",
    "tashu_15_2['반납일시'] = tashu_15_2['반납일시'].apply(make_date)\n",
    "tashu_15_2['반납일시'] =  pd.to_datetime(tashu_15_2['반납일시'])\n",
    "#print(tashu_15_2.head(10))\n",
    "\n",
    "print(len(tashu_13_1),len(tashu_13_2),len(tashu_14_1),len(tashu_14_2),len(tashu_15_1),len(tashu_15_2))\n"
   ]
  },
  {
   "cell_type": "code",
   "execution_count": 1055,
   "metadata": {},
   "outputs": [
    {
     "name": "stdout",
     "output_type": "stream",
     "text": [
      "1036614 1197415 1166350\n",
      "3400379\n"
     ]
    }
   ],
   "source": [
    "tashu_13 = pd.concat([tashu_13_1, tashu_13_2], ignore_index=True)\n",
    "tashu_14 = pd.concat([tashu_14_1, tashu_14_2], ignore_index=True)\n",
    "tashu_15 = pd.concat([tashu_15_1, tashu_15_2], ignore_index=True)\n",
    "print(len(tashu_13), len(tashu_14), len(tashu_15))\n",
    "all_tashu = pd.concat([tashu_13, tashu_14, tashu_15], ignore_index=True)\n",
    "all_tashu['대여일시'] =  pd.to_datetime(all_tashu['대여일시'])\n",
    "all_tashu['반납일시'] =  pd.to_datetime(all_tashu['반납일시'])\n",
    "all_tashu['대여 스테이션 정보'] = all_tashu['대여 스테이션 정보'].astype(int)\n",
    "all_tashu['반납 스테이션 정보'] = all_tashu['반납 스테이션 정보'].astype(int)\n",
    "print(len(all_tashu))\n"
   ]
  },
  {
   "cell_type": "code",
   "execution_count": 1065,
   "metadata": {},
   "outputs": [
    {
     "name": "stdout",
     "output_type": "stream",
     "text": [
      "                 TIME  TEMPERATURE  RAINFALL  WINDSPEED  HUMIDITY  SNOWFALL\n",
      "0 2013-01-01 00:00:00         -8.8       0.0        0.1      90.0       8.8\n",
      "1 2013-01-01 01:00:00         -8.5       0.0        0.9      90.0       8.8\n",
      "2 2013-01-01 02:00:00         -8.5       0.0        1.0      89.0       8.8\n",
      "3 2013-01-01 03:00:00         -9.0       0.0        0.7      91.0       8.8\n",
      "4 2013-01-01 04:00:00         -9.1       0.0        0.6      92.0       8.8\n",
      "5 2013-01-01 05:00:00         -9.4       0.0        0.5      92.0       8.8\n",
      "6 2013-01-01 06:00:00         -9.0       0.0        1.4      93.0       8.8\n",
      "7 2013-01-01 07:00:00         -8.3       0.0        0.2      94.0       9.6\n",
      "8 2013-01-01 07:30:00          0.0       0.0        0.0       0.0      10.5\n",
      "9 2013-01-01 08:00:00         -7.3       0.0        1.7      96.0      10.5\n"
     ]
    }
   ],
   "source": [
    "tashu_13_3 = tashu_13_3.fillna(0)\n",
    "tashu_14_3 = tashu_14_3.fillna(0)\n",
    "tashu_15_3 = tashu_15_3.fillna(0)\n",
    "all_weather = pd.concat([tashu_13_3, tashu_14_3, tashu_15_3], ignore_index=True)\n",
    "weather = pd.DataFrame(all_weather)\n",
    "weather.to_csv('all_weather.csv', index=False)\n",
    "all_weather['TIME'] =  pd.to_datetime(all_weather['TIME'])\n",
    "print(all_weather.head(10))\n"
   ]
  },
  {
   "cell_type": "code",
   "execution_count": 1057,
   "metadata": {},
   "outputs": [
    {
     "name": "stdout",
     "output_type": "stream",
     "text": [
      "make csv file complete.\n"
     ]
    }
   ],
   "source": [
    "tashu_file = pd.DataFrame(all_tashu)\n",
    "tashu_file.to_csv('tashu.csv', index=False)\n",
    "\n",
    "print('make csv file complete.')"
   ]
  },
  {
   "cell_type": "code",
   "execution_count": 1058,
   "metadata": {},
   "outputs": [
    {
     "name": "stdout",
     "output_type": "stream",
     "text": [
      "   STATION  YEAR MONTH DAY HOUR  WEEKDAY  SEASON  RENTCOUNT\n",
      "0       43  2013    01  01   05        1       3          1\n",
      "1       97  2013    01  01   06        1       3          1\n",
      "2        2  2013    01  01   06        1       3          1\n",
      "3      106  2013    01  01   10        1       3          1\n",
      "4        4  2013    01  01   11        1       3          1\n"
     ]
    }
   ],
   "source": [
    "tashu = pd.read_csv('tashu.csv')\n",
    "tashu = tashu.fillna(0)\n",
    "new = tashu[\"대여일시\"].str.split(\"-\", n = 3, expand = True)  \n",
    "tashu[\"YEAR\"] = new[0] \n",
    "tashu[\"MONTH\"] = new[1] \n",
    "tashu['TRASH'] = new[2]\n",
    "new2 = tashu['TRASH'].str.split(\" \", n = 2, expand = True)\n",
    "tashu['DAY'] = new2[0]\n",
    "tashu['TRASH2'] = new2[1]\n",
    "new3 = tashu['TRASH2'].str.split(':', n = 1, expand = True)\n",
    "tashu['HOUR'] = new3[0]\n",
    "\n",
    "\n",
    "tashu['대여일시'] = pd.to_datetime(tashu['대여일시'], errors='coerce')\n",
    "tashu['WEEKDAY'] = tashu['대여일시'].dt.weekday\n",
    "tashu['SEASON'] = tashu[\"MONTH\"].apply(lambda x:make_season(x))\n",
    "\n",
    "tashu['RENTCOUNT'] = 1\n",
    "\n",
    "del tashu['TRASH']\n",
    "del tashu['TRASH2']\n",
    "del tashu['대여일시']\n",
    "del tashu['반납 스테이션 정보']\n",
    "del tashu['반납일시']\n",
    "tashu = tashu.rename(columns = {'대여 스테이션 정보': 'STATION'})\n",
    "print(tashu.head(5))\n"
   ]
  },
  {
   "cell_type": "code",
   "execution_count": 1073,
   "metadata": {},
   "outputs": [
    {
     "name": "stdout",
     "output_type": "stream",
     "text": [
      "complete\n"
     ]
    }
   ],
   "source": [
    "all_weather = pd.read_csv('all_weather.csv')\n",
    "\n",
    "all_weather['TIME'] = pd.to_datetime(all_weather['TIME'], errors='coerce')\n",
    "all_weather['WEEKDAY'] = all_weather['TIME'].dt.weekday\n",
    "\n",
    "all_weather['TIME'] = all_weather['TIME'].astype(str)\n",
    "\n",
    "\n",
    "new = all_weather['TIME'].str.split('-', n = 3, expand = True)\n",
    "all_weather[\"YEAR\"] = new[0] \n",
    "all_weather[\"MONTH\"] = new[1] \n",
    "all_weather['TRASH'] = new[2]\n",
    "new2 = all_weather['TRASH'].str.split(\" \", n = 2, expand = True)\n",
    "all_weather['DAY'] = new2[0]\n",
    "all_weather['TRASH2'] = new2[1]\n",
    "new3 = all_weather['TRASH2'].str.split(':', n = 1, expand = True)\n",
    "all_weather['HOUR'] = new3[0]\n",
    "\n",
    "all_weather['SEASON'] = all_weather[\"MONTH\"].apply(lambda x:make_season(x))\n",
    "\n",
    "del all_weather['TRASH']\n",
    "del all_weather['TRASH2']\n",
    "del all_weather['TIME']\n",
    "\n",
    "#all_weather = pd.DataFrame(all_weather, columns=['STATION', 'YEAR', 'MONTH', 'DAY', 'HOUR', 'WEEKDAY', 'SEASON', 'TEMPERATURE', 'RAINFALL', 'WINDSPEED', 'HUMIDITY', 'SNOWFALL', 'RENTCOUNT'])\n",
    "all_weather = all_weather.fillna(0)\n",
    "\n",
    "result = pd.merge(tashu, all_weather, how='outer')\n",
    "result = result.fillna(0)\n",
    "\n",
    "data_frame = pd.DataFrame(result)\n",
    "data_frame.to_csv('total_rent.csv', index=False)\n",
    "\n",
    "print('complete')\n"
   ]
  },
  {
   "cell_type": "code",
   "execution_count": 1060,
   "metadata": {},
   "outputs": [
    {
     "name": "stdout",
     "output_type": "stream",
     "text": [
      "   STATION  YEAR MONTH DAY HOUR  RENTCOUNT  WEEKDAY  SEASON\n",
      "0       34  2013    01  01   06          1        1       3\n",
      "1        0  2013    01  01   10          1        1       3\n",
      "2       10  2013    01  01   06          1        1       3\n",
      "3      105  2013    01  01   10          1        1       3\n",
      "4        4  2013    01  01   12          1        1       3\n"
     ]
    }
   ],
   "source": [
    "import numpy as np\n",
    "\n",
    "tashu = pd.read_csv('tashu.csv')\n",
    "  \n",
    "new = tashu[\"반납일시\"].str.split(\"-\", n = 3, expand = True)  \n",
    "tashu[\"YEAR\"] = new[0] \n",
    "tashu[\"MONTH\"] = new[1] \n",
    "tashu['TRASH'] = new[2]\n",
    "new2 = tashu['TRASH'].str.split(\" \", n = 2, expand = True)\n",
    "tashu['DAY'] = new2[0]\n",
    "tashu['TRASH2'] = new2[1]\n",
    "new3 = tashu['TRASH2'].str.split(':', n = 1, expand = True)\n",
    "tashu['HOUR'] = new3[0]\n",
    "tashu['RENTCOUNT'] = 1\n",
    "\n",
    "\n",
    "tashu = tashu.fillna(0)\n",
    "tashu['반납일시'] = pd.to_datetime(tashu['반납일시'], errors='coerce')\n",
    "tashu['WEEKDAY'] = tashu['반납일시'].dt.weekday\n",
    "\n",
    "tashu['SEASON'] = tashu[\"MONTH\"].apply(lambda x:make_season(x))\n",
    "\n",
    "del tashu['TRASH']\n",
    "del tashu['TRASH2']\n",
    "del tashu['대여일시']\n",
    "del tashu['반납일시']\n",
    "del tashu['대여 스테이션 정보']\n",
    "\n",
    "tashu = tashu.rename(columns = {'반납 스테이션 정보': 'STATION'})\n",
    "print(tashu.head(5))\n"
   ]
  },
  {
   "cell_type": "code",
   "execution_count": 1076,
   "metadata": {},
   "outputs": [
    {
     "name": "stdout",
     "output_type": "stream",
     "text": [
      "   TEMPERATURE  RAINFALL  WINDSPEED  HUMIDITY  SNOWFALL  WEEKDAY  YEAR MONTH  \\\n",
      "0         -8.8       0.0        0.1      90.0       8.8        1  2013    01   \n",
      "1         -8.5       0.0        0.9      90.0       8.8        1  2013    01   \n",
      "2         -8.5       0.0        1.0      89.0       8.8        1  2013    01   \n",
      "3         -9.0       0.0        0.7      91.0       8.8        1  2013    01   \n",
      "4         -9.1       0.0        0.6      92.0       8.8        1  2013    01   \n",
      "\n",
      "  DAY HOUR  SEASON  \n",
      "0  01   00       3  \n",
      "1  01   01       3  \n",
      "2  01   02       3  \n",
      "3  01   03       3  \n",
      "4  01   04       3  \n",
      "complete\n"
     ]
    }
   ],
   "source": [
    "all_weather = pd.read_csv('all_weather.csv')\n",
    "\n",
    "all_weather['TIME'] = pd.to_datetime(all_weather['TIME'], errors='coerce')\n",
    "all_weather['WEEKDAY'] = all_weather['TIME'].dt.weekday\n",
    "\n",
    "all_weather['TIME'] = all_weather['TIME'].astype(str)\n",
    "\n",
    "\n",
    "new = all_weather['TIME'].str.split('-', n = 3, expand = True)\n",
    "all_weather[\"YEAR\"] = new[0] \n",
    "all_weather[\"MONTH\"] = new[1] \n",
    "all_weather['TRASH'] = new[2]\n",
    "new2 = all_weather['TRASH'].str.split(\" \", n = 2, expand = True)\n",
    "all_weather['DAY'] = new2[0]\n",
    "all_weather['TRASH2'] = new2[1]\n",
    "new3 = all_weather['TRASH2'].str.split(':', n = 1, expand = True)\n",
    "all_weather['HOUR'] = new3[0]\n",
    "\n",
    "del all_weather['TRASH']\n",
    "del all_weather['TRASH2']\n",
    "del all_weather['TIME']\n",
    "\n",
    "all_weather['SEASON'] = all_weather[\"MONTH\"].apply(make_season)\n",
    "all_weather = all_weather.fillna(0)\n",
    "\n",
    "\n",
    "#all_weather = pd.DataFrame(all_weather, columns=['STATION', 'YEAR', 'MONTH', 'DAY', 'HOUR', 'WEEKDAY', 'SEASON', 'TEMPERATURE', 'RAINFALL', 'WINDSPEED', 'HUMIDITY', 'SNOWFALL', 'RENTCOUNT'])\n",
    "all_weather = all_weather.fillna(0)\n",
    "result = pd.merge(all_weather, tashu, how='outer')\n",
    "result = result.fillna(0)\n",
    "\n",
    "data_frame = pd.DataFrame(result)\n",
    "data_frame.to_csv('total_return.csv', index=False)\n",
    "\n",
    "print('complete')"
   ]
  },
  {
   "cell_type": "code",
   "execution_count": 1062,
   "metadata": {},
   "outputs": [],
   "source": [
    "def make_date(date_time):\n",
    "    date_time = str(date_time)\n",
    "    if len(date_time) >= 4:\n",
    "        if len(date_time) == 15:\n",
    "            date_time = date_time[1:]\n",
    "        try:\n",
    "            return date_time[0:4] + '-' + date_time[4:6] + '-' + date_time[6:8] + ' ' + date_time[8:10] + ':' + date_time[10:12] + ':' + date_time[12:14]\n",
    "        except ValueError:\n",
    "            pass"
   ]
  },
  {
   "cell_type": "code",
   "execution_count": 1063,
   "metadata": {},
   "outputs": [],
   "source": [
    "def make_season(month):\n",
    "    month = int(month)\n",
    "    if month >=3 and month <=5:\n",
    "        return 0 # spring    \n",
    "    elif month >=6 and month <=8:\n",
    "        return 1 # summer          \n",
    "    elif month >=9 and month <=11:\n",
    "        return 2 # fall\n",
    "    else:\n",
    "        return 3 # winter\n",
    "                "
   ]
  },
  {
   "cell_type": "code",
   "execution_count": 1064,
   "metadata": {},
   "outputs": [
    {
     "name": "stdout",
     "output_type": "stream",
     "text": [
      "station.csv: ＼t145 rows ＼t8 columns\n",
      "tashu.csv: ＼t3400380 rows ＼t4 columns\n",
      "2014_weather.csv: ＼t8786 rows ＼t6 columns\n",
      "total_rent.csv: ＼t3426720 rows ＼t13 columns\n",
      "2013_weather.csv: ＼t8795 rows ＼t6 columns\n",
      "2013_1.csv: ＼t414640 rows ＼t4 columns\n",
      "2013_2.csv: ＼t621976 rows ＼t4 columns\n",
      "2015_1.csv: ＼t524767 rows ＼t4 columns\n",
      "2015_2.csv: ＼t641585 rows ＼t4 columns\n",
      "2015_weather.csv: ＼t8762 rows ＼t6 columns\n",
      "2014_2.csv: ＼t610063 rows ＼t4 columns\n",
      "total_return.csv: ＼t3426720 rows ＼t13 columns\n",
      "2014_1.csv: ＼t587354 rows ＼t4 columns\n",
      "Number of files: 13\n"
     ]
    }
   ],
   "source": [
    "import csv\n",
    "import glob\n",
    "import os\n",
    "import sys\n",
    "\n",
    "input_path = './'\n",
    "file_counter = 0\n",
    "for input_file in glob.glob(os.path.join(input_path,'*.csv')):\n",
    "    row_counter = 1\n",
    "    with open(input_file, 'r', newline='') as csv_in_file:\n",
    "        filereader = csv.reader(csv_in_file)\n",
    "        header = next(filereader)\n",
    "        for row in filereader:\n",
    "            row_counter += 1\n",
    "        print('{0!s}: ＼t{1:d} rows ＼t{2:d} columns'.format(os.path.basename(input_file), row_counter, len(header)))\n",
    "    file_counter += 1\n",
    "print('Number of files: {0:d}'.format(file_counter))"
   ]
  },
  {
   "cell_type": "code",
   "execution_count": null,
   "metadata": {},
   "outputs": [],
   "source": []
  },
  {
   "cell_type": "code",
   "execution_count": null,
   "metadata": {},
   "outputs": [],
   "source": []
  }
 ],
 "metadata": {
  "kernelspec": {
   "display_name": "Python 3",
   "language": "python",
   "name": "python3"
  },
  "language_info": {
   "codemirror_mode": {
    "name": "ipython",
    "version": 3
   },
   "file_extension": ".py",
   "mimetype": "text/x-python",
   "name": "python",
   "nbconvert_exporter": "python",
   "pygments_lexer": "ipython3",
   "version": "3.7.1"
  }
 },
 "nbformat": 4,
 "nbformat_minor": 2
}
